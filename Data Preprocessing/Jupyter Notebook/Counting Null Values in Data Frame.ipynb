{
 "cells": [
  {
   "cell_type": "markdown",
   "metadata": {},
   "source": [
    "# Counting Null Values in Data Frame"
   ]
  },
  {
   "cell_type": "markdown",
   "metadata": {},
   "source": [
    "You can use the following syntax to count NaN values in Pandas DataFrame:\n",
    "\n",
    "(1) Count NaN values under a single DataFrame column:\n",
    "df['column name'].isna().sum()\n",
    "\n",
    "(2) Count NaN values for all columns entire DataFrame\n",
    "df.isna().sum()\n",
    "\n",
    "(3) Count NaN values under an entire DataFrame:\n",
    "df.isna().sum().sum()\n",
    "\n",
    "(4) Count NaN values across a single DataFrame row:\n",
    "df.loc[[index value]].isna().sum().sum()\n",
    "\n",
    "#Let’s see how to apply each of the above cases using a practical example"
   ]
  },
  {
   "cell_type": "code",
   "execution_count": 1,
   "metadata": {},
   "outputs": [
    {
     "name": "stdout",
     "output_type": "stream",
     "text": [
      "   first_set second_set third_set\n",
      "0        1.0          a        aa\n",
      "1        2.0          b       NaN\n",
      "2        3.0        NaN        bb\n",
      "3        4.0        NaN        cc\n",
      "4        5.0          c       NaN\n",
      "5        NaN          d       NaN\n",
      "6        6.0          e        dd\n",
      "7        7.0        NaN       NaN\n",
      "8        NaN        NaN       NaN\n",
      "9        NaN          f        ee\n"
     ]
    }
   ],
   "source": [
    "#Suppose you created the following DataFrame that contains NaN values:\n",
    "\n",
    "import pandas as pd\n",
    "import numpy as np\n",
    "\n",
    "data = {'first_set': [1,2,3,4,5,np.nan,6,7,np.nan,np.nan],\n",
    "        'second_set': ['a','b',np.nan,np.nan,'c','d','e',np.nan,np.nan,'f'],\n",
    "        'third_set':['aa',np.nan,'bb','cc',np.nan,np.nan,'dd',np.nan,np.nan,'ee']\n",
    "        }\n",
    "\n",
    "df = pd.DataFrame(data,columns=['first_set','second_set','third_set'])\n",
    "\n",
    "print (df)"
   ]
  },
  {
   "cell_type": "markdown",
   "metadata": {},
   "source": [
    "Now we will understand how do we calculate NaN values for the the below 4 cases:\n",
    "1) Under a single DataFrame column\n",
    "2) For all columns under the entire DataFrame\n",
    "2) Under the entire DataFrame\n",
    "3) Across a single DataFrame row"
   ]
  },
  {
   "cell_type": "markdown",
   "metadata": {},
   "source": [
    "(1) Count NaN values under a single DataFrame column\n",
    "\n",
    "You can use the following template to count the NaN values under a single DataFrame column:\n",
    "\n",
    "df['column name'].isna().sum()"
   ]
  },
  {
   "cell_type": "code",
   "execution_count": 2,
   "metadata": {},
   "outputs": [
    {
     "name": "stdout",
     "output_type": "stream",
     "text": [
      "Count of NaN: 3\n"
     ]
    }
   ],
   "source": [
    "count_nan = df['first_set'].isna().sum()\n",
    "\n",
    "print ('Count of NaN: ' + str(count_nan))"
   ]
  },
  {
   "cell_type": "markdown",
   "metadata": {},
   "source": [
    "(2) Count NaN values for all columns entire DataFrame\n",
    "\n",
    "You can use the following template to count the NaN values all the columns of a DataFrame\n",
    "\n",
    "df.isna().sum()"
   ]
  },
  {
   "cell_type": "code",
   "execution_count": 4,
   "metadata": {},
   "outputs": [
    {
     "data": {
      "text/plain": [
       "first_set     3\n",
       "second_set    4\n",
       "third_set     5\n",
       "dtype: int64"
      ]
     },
     "execution_count": 4,
     "metadata": {},
     "output_type": "execute_result"
    }
   ],
   "source": [
    "df.isna().sum()"
   ]
  },
  {
   "cell_type": "markdown",
   "metadata": {},
   "source": [
    "(3) Count NaN values under the entire DataFrame\n",
    "\n",
    "You can use the following template to count the NaN values for the entire DataFrame\n",
    "\n",
    "df.isna().sum().sum()"
   ]
  },
  {
   "cell_type": "code",
   "execution_count": 5,
   "metadata": {},
   "outputs": [
    {
     "data": {
      "text/plain": [
       "12"
      ]
     },
     "execution_count": 5,
     "metadata": {},
     "output_type": "execute_result"
    }
   ],
   "source": [
    "df.isna().sum().sum()"
   ]
  },
  {
   "cell_type": "markdown",
   "metadata": {},
   "source": [
    "(4) Count NaN values across a single DataFrame row:\n",
    "    \n",
    "You can use the following template to count the NaN values for a DataFrame row:\n",
    "\n",
    "df.loc[[index value]].isna().sum().sum()"
   ]
  },
  {
   "cell_type": "code",
   "execution_count": 6,
   "metadata": {},
   "outputs": [
    {
     "data": {
      "text/plain": [
       "2"
      ]
     },
     "execution_count": 6,
     "metadata": {},
     "output_type": "execute_result"
    }
   ],
   "source": [
    "df.loc[[7]].isna().sum().sum()"
   ]
  }
 ],
 "metadata": {
  "kernelspec": {
   "display_name": "Python 3",
   "language": "python",
   "name": "python3"
  },
  "language_info": {
   "codemirror_mode": {
    "name": "ipython",
    "version": 3
   },
   "file_extension": ".py",
   "mimetype": "text/x-python",
   "name": "python",
   "nbconvert_exporter": "python",
   "pygments_lexer": "ipython3",
   "version": "3.7.6"
  }
 },
 "nbformat": 4,
 "nbformat_minor": 4
}
