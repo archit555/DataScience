{
 "cells": [
  {
   "cell_type": "markdown",
   "metadata": {},
   "source": [
    "# Removing Columns in a Pandas Data Frame"
   ]
  },
  {
   "cell_type": "markdown",
   "metadata": {},
   "source": [
    "We can delete one or multiple columns of a DataFrame.\n",
    "\n",
    "To delete or remove only one column from Pandas DataFrame, you can use either del keyword, pop() function or drop() function on the dataframe.\n",
    "\n",
    "To delete multiple columns from Pandas Dataframe, use drop() function on the dataframe."
   ]
  },
  {
   "cell_type": "markdown",
   "metadata": {},
   "source": [
    "Now we will understand how can we delete column for the below 4 cases:\n",
    "\n",
    "Dropping Columns:\n",
    "1) Delete a column using del keyowrd\n",
    "2) Delete a column using pop keyword\n",
    "3) Delete a column using drop function\n",
    "4) Delete multiple columns using drop function"
   ]
  },
  {
   "cell_type": "markdown",
   "metadata": {},
   "source": [
    "1) Delete a column using del keyword\n",
    "\n",
    "In this example, we will create a DataFrame and then delete a specified column using del keyword.\n",
    "The column is selected for deletion, using the column label."
   ]
  },
  {
   "cell_type": "code",
   "execution_count": 1,
   "metadata": {},
   "outputs": [
    {
     "name": "stdout",
     "output_type": "stream",
     "text": [
      "Original DataFrame\n",
      "--------------\n",
      "  names  physics  chemistry  algebra\n",
      "0  Somu       68         84       78\n",
      "1  Kiku       74         56       88\n",
      "2  Amol       77         73       82\n",
      "3  Lini       78         69       87\n",
      "\n",
      "\n",
      "DataFrame after deleting column\n",
      "--------------\n",
      "  names  physics  algebra\n",
      "0  Somu       68       78\n",
      "1  Kiku       74       88\n",
      "2  Amol       77       82\n",
      "3  Lini       78       87\n"
     ]
    }
   ],
   "source": [
    "import pandas as pd\n",
    "\n",
    "mydictionary = {'names': ['Somu', 'Kiku', 'Amol', 'Lini'],\n",
    "\t'physics': [68, 74, 77, 78],\n",
    "\t'chemistry': [84, 56, 73, 69],\n",
    "\t'algebra': [78, 88, 82, 87]}\n",
    "\n",
    "#create dataframe\n",
    "df_marks = pd.DataFrame(mydictionary)\n",
    "print('Original DataFrame\\n--------------')\n",
    "print(df_marks)\n",
    "\n",
    "#delete a column\n",
    "del df_marks['chemistry']\n",
    "print('\\n\\nDataFrame after deleting column\\n--------------')\n",
    "print(df_marks)"
   ]
  },
  {
   "cell_type": "markdown",
   "metadata": {},
   "source": [
    "2) Delete a column using pop keyword\n",
    "\n",
    "In this example, we will create a DataFrame and then delete a specified column using pop keyword.\n",
    "The column is selected for deletion, using the column label."
   ]
  },
  {
   "cell_type": "code",
   "execution_count": 2,
   "metadata": {},
   "outputs": [
    {
     "name": "stdout",
     "output_type": "stream",
     "text": [
      "Original DataFrame\n",
      "--------------\n",
      "  names  physics  chemistry  algebra\n",
      "0  Somu       68         84       78\n",
      "1  Kiku       74         56       88\n",
      "2  Amol       77         73       82\n",
      "3  Lini       78         69       87\n",
      "\n",
      "\n",
      "DataFrame after deleting column\n",
      "--------------\n",
      "  names  physics  algebra\n",
      "0  Somu       68       78\n",
      "1  Kiku       74       88\n",
      "2  Amol       77       82\n",
      "3  Lini       78       87\n"
     ]
    }
   ],
   "source": [
    "import pandas as pd\n",
    "\n",
    "mydictionary = {'names': ['Somu', 'Kiku', 'Amol', 'Lini'],\n",
    "\t'physics': [68, 74, 77, 78],\n",
    "\t'chemistry': [84, 56, 73, 69],\n",
    "\t'algebra': [78, 88, 82, 87]}\n",
    "\n",
    "#create dataframe\n",
    "df_marks = pd.DataFrame(mydictionary)\n",
    "print('Original DataFrame\\n--------------')\n",
    "print(df_marks)\n",
    "\n",
    "#delete column\n",
    "df_marks.pop('chemistry')\n",
    "print('\\n\\nDataFrame after deleting column\\n--------------')\n",
    "print(df_marks)"
   ]
  },
  {
   "cell_type": "markdown",
   "metadata": {},
   "source": [
    "3) Delete a column using drop fnction\n",
    "\n",
    "In this example, we will create a DataFrame and then delete a specified column using drop function.\n",
    "The column is selected for deletion, using the column label."
   ]
  },
  {
   "cell_type": "code",
   "execution_count": 4,
   "metadata": {},
   "outputs": [
    {
     "name": "stdout",
     "output_type": "stream",
     "text": [
      "Original DataFrame\n",
      "--------------\n",
      "  names  physics  chemistry  algebra\n",
      "0  Somu       68         84       78\n",
      "1  Kiku       74         56       88\n",
      "2  Amol       77         73       82\n",
      "3  Lini       78         69       87\n",
      "\n",
      "\n",
      "DataFrame after deleting column\n",
      "--------------\n",
      "  names  physics  algebra\n",
      "0  Somu       68       78\n",
      "1  Kiku       74       88\n",
      "2  Amol       77       82\n",
      "3  Lini       78       87\n"
     ]
    }
   ],
   "source": [
    "import pandas as pd\n",
    "\n",
    "mydictionary = {'names': ['Somu', 'Kiku', 'Amol', 'Lini'],\n",
    "\t'physics': [68, 74, 77, 78],\n",
    "\t'chemistry': [84, 56, 73, 69],\n",
    "\t'algebra': [78, 88, 82, 87]}\n",
    "\n",
    "#create dataframe\n",
    "df_marks = pd.DataFrame(mydictionary)\n",
    "print('Original DataFrame\\n--------------')\n",
    "print(df_marks)\n",
    "\n",
    "#delete column\n",
    "df_marks = df_marks.drop(['chemistry'], axis=1)\n",
    "print('\\n\\nDataFrame after deleting column\\n--------------')\n",
    "print(df_marks)"
   ]
  },
  {
   "cell_type": "markdown",
   "metadata": {},
   "source": [
    "4) Delete columns using drop fnction\n",
    "\n",
    "In this example, we will create a DataFrame and then delete multiple columns using drop function.\n",
    "The column is selected for deletion, using the column label."
   ]
  },
  {
   "cell_type": "code",
   "execution_count": 5,
   "metadata": {},
   "outputs": [
    {
     "name": "stdout",
     "output_type": "stream",
     "text": [
      "Original DataFrame\n",
      "--------------\n",
      "  names  physics  chemistry  algebra\n",
      "0  Somu       68         84       78\n",
      "1  Kiku       74         56       88\n",
      "2  Amol       77         73       82\n",
      "3  Lini       78         69       87\n",
      "\n",
      "\n",
      "DataFrame after deleting column\n",
      "--------------\n",
      "  names  physics\n",
      "0  Somu       68\n",
      "1  Kiku       74\n",
      "2  Amol       77\n",
      "3  Lini       78\n"
     ]
    }
   ],
   "source": [
    "import pandas as pd\n",
    "\n",
    "mydictionary = {'names': ['Somu', 'Kiku', 'Amol', 'Lini'],\n",
    "\t'physics': [68, 74, 77, 78],\n",
    "\t'chemistry': [84, 56, 73, 69],\n",
    "\t'algebra': [78, 88, 82, 87]}\n",
    "\n",
    "#create dataframe\n",
    "df_marks = pd.DataFrame(mydictionary)\n",
    "print('Original DataFrame\\n--------------')\n",
    "print(df_marks)\n",
    "\n",
    "#delete columns\n",
    "df_marks = df_marks.drop(['algebra', 'chemistry'], axis=1)\n",
    "print('\\n\\nDataFrame after deleting column\\n--------------')\n",
    "print(df_marks)"
   ]
  }
 ],
 "metadata": {
  "kernelspec": {
   "display_name": "Python 3",
   "language": "python",
   "name": "python3"
  },
  "language_info": {
   "codemirror_mode": {
    "name": "ipython",
    "version": 3
   },
   "file_extension": ".py",
   "mimetype": "text/x-python",
   "name": "python",
   "nbconvert_exporter": "python",
   "pygments_lexer": "ipython3",
   "version": "3.7.6"
  }
 },
 "nbformat": 4,
 "nbformat_minor": 4
}
